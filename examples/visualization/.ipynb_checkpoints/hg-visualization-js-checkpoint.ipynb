{
 "cells": [
  {
   "cell_type": "code",
   "execution_count": 4,
   "metadata": {},
   "outputs": [],
   "source": [
    "using SimpleHypergraphs"
   ]
  },
  {
   "cell_type": "code",
   "execution_count": 5,
   "metadata": {},
   "outputs": [
    {
     "data": {
      "text/plain": [
       "5×4 Hypergraph{Float64,Nothing,Nothing}:\n",
       " 1.5        nothing   nothing   nothing\n",
       " 1.5        nothing  3.5        nothing\n",
       " 1.5        nothing   nothing  2.5     \n",
       "  nothing   nothing  4.5       4.5     \n",
       "  nothing  6.5        nothing  5.5     "
      ]
     },
     "execution_count": 5,
     "metadata": {},
     "output_type": "execute_result"
    }
   ],
   "source": [
    "h = Hypergraph{Float64}(5,4)\n",
    "h[1:3,1] .= 1.5\n",
    "h[3,4] = 2.5\n",
    "h[2,3] = 3.5\n",
    "h[4,3:4] .= 4.5\n",
    "h[5,4] = 5.5\n",
    "h[5,2] = 6.5\n",
    "\n",
    "h"
   ]
  },
  {
   "cell_type": "code",
   "execution_count": 6,
   "metadata": {
    "scrolled": true
   },
   "outputs": [
    {
     "data": {
      "text/plain": [
       "965"
      ]
     },
     "execution_count": 6,
     "metadata": {},
     "output_type": "execute_result"
    }
   ],
   "source": [
    "hg_export_json(\"data/test.json\",h)"
   ]
  },
  {
   "cell_type": "code",
   "execution_count": 13,
   "metadata": {},
   "outputs": [
    {
     "data": {
      "text/html": [
       "<style>\n",
       "\n",
       ".link {\n",
       "\tstroke-width:2px;\n",
       "  fill: none;\n",
       "  stroke: #bbb;\n",
       "}\n",
       ".node circle {\n",
       "  pointer-events: all;\n",
       "  stroke: #000;\n",
       "  stroke-width: 1px;\n",
       "}\n",
       "\n",
       "</style>\n"
      ],
      "text/plain": [
       "HTML{String}(\"<style>\\n\\n.link {\\n\\tstroke-width:2px;\\n  fill: none;\\n  stroke: #bbb;\\n}\\n.node circle {\\n  pointer-events: all;\\n  stroke: #000;\\n  stroke-width: 1px;\\n}\\n\\n</style>\\n\")"
      ]
     },
     "execution_count": 13,
     "metadata": {},
     "output_type": "execute_result"
    }
   ],
   "source": [
    "#style\n",
    "HTML(\"\"\"\n",
    "<style>\n",
    "\n",
    ".link {\n",
    "\tstroke-width:2px;\n",
    "  fill: none;\n",
    "  stroke: #bbb;\n",
    "}\n",
    ".node circle {\n",
    "  pointer-events: all;\n",
    "  stroke: #000;\n",
    "  stroke-width: 1px;\n",
    "}\n",
    "\n",
    "</style>\n",
    "\"\"\")"
   ]
  },
  {
   "cell_type": "code",
   "execution_count": 22,
   "metadata": {},
   "outputs": [
    {
     "data": {
      "text/html": [
       "<div id=\"hg-plot\"></div>\n",
       "<script src=\"scripts/edges-view-module.js\"></script>\n",
       "<script>\n",
       "hgColorEdgePlot(\"test.json\")\n",
       "</script>\n"
      ],
      "text/plain": [
       "HTML{String}(\"<div id=\\\"hg-plot\\\"></div>\\n<script src=\\\"scripts/edges-view-module.js\\\"></script>\\n<script>\\nhgColorEdgePlot(\\\"test.json\\\")\\n</script>\\n\")"
      ]
     },
     "execution_count": 22,
     "metadata": {},
     "output_type": "execute_result"
    }
   ],
   "source": [
    "#funcion call\n",
    "HTML(\"\"\"\n",
    "<div id=\"hg-plot\"></div>\n",
    "<script src=\"scripts/edges-view-module.js\"></script>\n",
    "<script>\n",
    "hgColorEdgePlot(\"test.json\")\n",
    "</script>\n",
    "\"\"\")"
   ]
  },
  {
   "cell_type": "code",
   "execution_count": null,
   "metadata": {},
   "outputs": [],
   "source": []
  }
 ],
 "metadata": {
  "kernelspec": {
   "display_name": "Julia 1.1.1",
   "language": "julia",
   "name": "julia-1.1"
  },
  "language_info": {
   "file_extension": ".jl",
   "mimetype": "application/julia",
   "name": "julia",
   "version": "1.1.1"
  }
 },
 "nbformat": 4,
 "nbformat_minor": 2
}
