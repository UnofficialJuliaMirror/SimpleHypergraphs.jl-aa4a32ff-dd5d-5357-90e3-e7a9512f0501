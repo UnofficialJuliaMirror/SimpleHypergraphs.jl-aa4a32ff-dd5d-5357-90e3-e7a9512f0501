{
 "cells": [
  {
   "cell_type": "code",
   "execution_count": 1,
   "metadata": {},
   "outputs": [
    {
     "name": "stdout",
     "output_type": "stream",
     "text": [
      "\u001b[32m\u001b[1m  Updating\u001b[22m\u001b[39m registry at `~/.julia/registries/General`\n",
      "\u001b[32m\u001b[1m  Updating\u001b[22m\u001b[39m git-repo `https://github.com/JuliaRegistries/General.git`\n",
      "\u001b[?25l\u001b[2K\u001b[?25h\u001b[32m\u001b[1m  Updating\u001b[22m\u001b[39m git-repo `https://github.com/pszufe/SimpleHypergraphs.jl.git`\n",
      "\u001b[?25l\u001b[2K\u001b[?25h\u001b[32m\u001b[1m Resolving\u001b[22m\u001b[39m package versions...\n",
      "\u001b[32m\u001b[1m  Updating\u001b[22m\u001b[39m `~/.julia/environments/v1.1/Project.toml`\n",
      "\u001b[90m [no changes]\u001b[39m\n",
      "\u001b[32m\u001b[1m  Updating\u001b[22m\u001b[39m `~/.julia/environments/v1.1/Manifest.toml`\n",
      "\u001b[90m [no changes]\u001b[39m\n"
     ]
    }
   ],
   "source": [
    "] add SimpleHypergraphs.jl#visualization"
   ]
  },
  {
   "cell_type": "code",
   "execution_count": 2,
   "metadata": {},
   "outputs": [],
   "source": [
    "using SimpleHypergraphs"
   ]
  },
  {
   "cell_type": "code",
   "execution_count": 3,
   "metadata": {},
   "outputs": [
    {
     "data": {
      "text/plain": [
       "5×4 Hypergraph{Float64,Nothing,Nothing}:\n",
       " 1.5        nothing   nothing   nothing\n",
       " 1.5        nothing  3.5        nothing\n",
       " 1.5        nothing   nothing  2.5     \n",
       "  nothing   nothing  4.5       4.5     \n",
       "  nothing  6.5        nothing  5.5     "
      ]
     },
     "execution_count": 3,
     "metadata": {},
     "output_type": "execute_result"
    }
   ],
   "source": [
    "h = Hypergraph{Float64}(5,4)\n",
    "h[1:3,1] .= 1.5\n",
    "h[3,4] = 2.5\n",
    "h[2,3] = 3.5\n",
    "h[4,3:4] .= 4.5\n",
    "h[5,4] = 5.5\n",
    "h[5,2] = 6.5\n",
    "\n",
    "h"
   ]
  },
  {
   "cell_type": "code",
   "execution_count": 5,
   "metadata": {},
   "outputs": [
    {
     "data": {
      "text/html": [
       "<head>\n",
       "<link rel=\"stylesheet\" type=\"text/css\" href=\"https://isislab-unisa.github.io/hypergraphs-plot/css/color-edge-style.css\">\n",
       "</head>\n",
       "<div class=\"hg-plot\"></div>\n",
       "<script src=\"https://isislab-unisa.github.io/hypergraphs-plot/bundle.v1.0.js\"></script>\n",
       "<script>\n",
       "hgplot.drawing.hgColorEdgePlot({graph:{\n",
       "    \"nodes\":[\n",
       "        {\"id\":\"1\" , \"links\":[\"1\"]},\n",
       "        {\"id\":\"2\" , \"links\":[\"1\",\"3\"]},\n",
       "        {\"id\":\"3\" , \"links\":[\"1\",\"4\"]},\n",
       "        {\"id\":\"4\" , \"links\":[\"3\",\"4\"]},\n",
       "        {\"id\":\"5\" , \"links\":[\"2\",\"4\"]}\n",
       "    ],\n",
       "    \"links\":[\n",
       "        {\"id\":\"1\", \"nodes\": [\"1\",\"2\",\"3\"]},\n",
       "        {\"id\":\"2\", \"nodes\": [\"5\"]},\n",
       "        {\"id\":\"3\", \"nodes\": [\"2\",\"4\"]},\n",
       "        {\"id\":\"4\", \"nodes\": [\"3\",\"4\",\"5\"]}\n",
       "    ],\n",
       "    \"nodelinks\":[\n",
       "                    {\"node\":\"1\",\"link\":\"1\",\"value\":\"1.5\"},\n",
       "                    {\"node\":\"2\",\"link\":\"1\",\"value\":\"1.5\"},\n",
       "                    {\"node\":\"2\",\"link\":\"3\",\"value\":\"3.5\"},\n",
       "                    {\"node\":\"3\",\"link\":\"1\",\"value\":\"1.5\"},\n",
       "                    {\"node\":\"3\",\"link\":\"4\",\"value\":\"2.5\"},\n",
       "                    {\"node\":\"4\",\"link\":\"3\",\"value\":\"4.5\"},\n",
       "                    {\"node\":\"4\",\"link\":\"4\",\"value\":\"4.5\"},\n",
       "                    {\"node\":\"5\",\"link\":\"2\",\"value\":\"6.5\"},\n",
       "                    {\"node\":\"5\",\"link\":\"4\",\"value\":\"5.5\"}\n",
       "        ]\n",
       "    }});\n",
       "</script>\n"
      ],
      "text/plain": [
       "HTML{String}(\"<head>\\n<link rel=\\\"stylesheet\\\" type=\\\"text/css\\\" href=\\\"https://isislab-unisa.github.io/hypergraphs-plot/css/color-edge-style.css\\\">\\n</head>\\n<div class=\\\"hg-plot\\\"></div>\\n<script src=\\\"https://isislab-unisa.github.io/hypergraphs-plot/bundle.v1.0.js\\\"></script>\\n<script>\\nhgplot.drawing.hgColorEdgePlot({graph:{\\n    \\\"nodes\\\":[\\n        {\\\"id\\\":\\\"1\\\" , \\\"links\\\":[\\\"1\\\"]},\\n        {\\\"id\\\":\\\"2\\\" , \\\"links\\\":[\\\"1\\\",\\\"3\\\"]},\\n        {\\\"id\\\":\\\"3\\\" , \\\"links\\\":[\\\"1\\\",\\\"4\\\"]},\\n        {\\\"id\\\":\\\"4\\\" , \\\"links\\\":[\\\"3\\\",\\\"4\\\"]},\\n        {\\\"id\\\":\\\"5\\\" , \\\"links\\\":[\\\"2\\\",\\\"4\\\"]}\\n    ],\\n    \\\"links\\\":[\\n        {\\\"id\\\":\\\"1\\\", \\\"nodes\\\": [\\\"1\\\",\\\"2\\\",\\\"3\\\"]},\\n        {\\\"id\\\":\\\"2\\\", \\\"nodes\\\": [\\\"5\\\"]},\\n        {\\\"id\\\":\\\"3\\\", \\\"nodes\\\": [\\\"2\\\",\\\"4\\\"]},\\n        {\\\"id\\\":\\\"4\\\", \\\"nodes\\\": [\\\"3\\\",\\\"4\\\",\\\"5\\\"]}\\n    ],\\n    \\\"nodelinks\\\":[\\n                    {\\\"node\\\":\\\"1\\\",\\\"link\\\":\\\"1\\\",\\\"value\\\":\\\"1.5\\\"},\\n                    {\\\"node\\\":\\\"2\\\",\\\"link\\\":\\\"1\\\",\\\"value\\\":\\\"1.5\\\"},\\n                    {\\\"node\\\":\\\"2\\\",\\\"link\\\":\\\"3\\\",\\\"value\\\":\\\"3.5\\\"},\\n                    {\\\"node\\\":\\\"3\\\",\\\"link\\\":\\\"1\\\",\\\"value\\\":\\\"1.5\\\"},\\n                    {\\\"node\\\":\\\"3\\\",\\\"link\\\":\\\"4\\\",\\\"value\\\":\\\"2.5\\\"},\\n                    {\\\"node\\\":\\\"4\\\",\\\"link\\\":\\\"3\\\",\\\"value\\\":\\\"4.5\\\"},\\n                    {\\\"node\\\":\\\"4\\\",\\\"link\\\":\\\"4\\\",\\\"value\\\":\\\"4.5\\\"},\\n                    {\\\"node\\\":\\\"5\\\",\\\"link\\\":\\\"2\\\",\\\"value\\\":\\\"6.5\\\"},\\n                    {\\\"node\\\":\\\"5\\\",\\\"link\\\":\\\"4\\\",\\\"value\\\":\\\"5.5\\\"}\\n        ]\\n    }});\\n</script>\\n\")"
      ]
     },
     "execution_count": 5,
     "metadata": {},
     "output_type": "execute_result"
    }
   ],
   "source": [
    "plot(h,type=\"color-edge\")"
   ]
  },
  {
   "cell_type": "code",
   "execution_count": null,
   "metadata": {},
   "outputs": [],
   "source": []
  }
 ],
 "metadata": {
  "kernelspec": {
   "display_name": "Julia 1.1.1",
   "language": "julia",
   "name": "julia-1.1"
  },
  "language_info": {
   "file_extension": ".jl",
   "mimetype": "application/julia",
   "name": "julia",
   "version": "1.1.1"
  }
 },
 "nbformat": 4,
 "nbformat_minor": 2
}
